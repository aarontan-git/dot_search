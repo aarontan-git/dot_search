{
 "cells": [
  {
   "cell_type": "markdown",
   "metadata": {},
   "source": [
    "# NetworkX A*"
   ]
  },
  {
   "cell_type": "code",
   "execution_count": 1,
   "metadata": {},
   "outputs": [],
   "source": [
    "import numpy as np\n",
    "import networkx as nx\n",
    "import matplotlib.pyplot as plt\n",
    "import warnings\n",
    "import math\n",
    "warnings.filterwarnings('ignore')\n",
    "from IPython.display import display, clear_output"
   ]
  },
  {
   "cell_type": "markdown",
   "metadata": {},
   "source": [
    "## Functions "
   ]
  },
  {
   "cell_type": "code",
   "execution_count": 2,
   "metadata": {},
   "outputs": [],
   "source": [
    "def pixel_to_node(pixel_tuple):\n",
    "    x_idx = pixel_tuple[0]\n",
    "    y_idx = pixel_tuple[1]\n",
    "    \n",
    "    node_x = convert_number_range(x_idx, 0, 480, 0, 139)\n",
    "    node_y = convert_number_range(y_idx, 0, 480, 0, 139)\n",
    "    \n",
    "    node = (140*int(node_x)) + int(node_y)\n",
    "    \n",
    "    return str(node)"
   ]
  },
  {
   "cell_type": "code",
   "execution_count": 3,
   "metadata": {},
   "outputs": [],
   "source": [
    "def convert_number_range(OldValue, OldMin, OldMax, NewMin, NewMax):\n",
    "    # function to account for origin (0 - 600cm => -300cm to 300 cm)\n",
    "\n",
    "    OldRange = (OldMax - OldMin)  \n",
    "    NewRange = (NewMax - NewMin)  \n",
    "    NewValue = (((OldValue - OldMin) * NewRange) / OldRange) + NewMin\n",
    "\n",
    "    return NewValue"
   ]
  },
  {
   "cell_type": "code",
   "execution_count": 4,
   "metadata": {},
   "outputs": [],
   "source": [
    "def get_index(node):\n",
    "    # gets the index of a specified node (eg. row and column)\n",
    "    # accepts node in float(), returns float()\n",
    "    row = node // dot_size\n",
    "    column = node % dot_size\n",
    "    return row, column"
   ]
  },
  {
   "cell_type": "code",
   "execution_count": 5,
   "metadata": {},
   "outputs": [],
   "source": [
    "def node_to_pixel(node):\n",
    "    x, y = get_index(int(node))\n",
    "    \n",
    "    x_pixel = convert_number_range(x, 0, 139, 0, 480)\n",
    "    y_pixel = convert_number_range(y, 0, 139, 0, 480) \n",
    "    pixels = (x_pixel, y_pixel\n",
    "             )\n",
    "    return pixels"
   ]
  },
  {
   "cell_type": "code",
   "execution_count": 6,
   "metadata": {},
   "outputs": [],
   "source": [
    "def get_neighbor_list(node):\n",
    "    # create a list of all neighbors around the specified node\n",
    "    neighbor_list = G.neighbors(str(node))\n",
    "    neighbor_list = list(map(int, neighbor_list))\n",
    "    neighbor_list = sorted(neighbor_list)\n",
    "    return neighbor_list"
   ]
  },
  {
   "cell_type": "markdown",
   "metadata": {},
   "source": [
    "## Start "
   ]
  },
  {
   "cell_type": "code",
   "execution_count": 7,
   "metadata": {},
   "outputs": [],
   "source": [
    "G = nx.drawing.nx_agraph.read_dot(<graph_name.dot>)"
   ]
  },
  {
   "cell_type": "code",
   "execution_count": 8,
   "metadata": {},
   "outputs": [],
   "source": [
    "dot_size = 140\n",
    "number_of_nodes = dot_size ** 2"
   ]
  },
  {
   "cell_type": "code",
   "execution_count": 9,
   "metadata": {},
   "outputs": [
    {
     "name": "stderr",
     "output_type": "stream",
     "text": [
      "IOPub message rate exceeded.\n",
      "The notebook server will temporarily stop sending output\n",
      "to the client in order to avoid crashing it.\n",
      "To change this limit, set the config variable\n",
      "`--NotebookApp.iopub_msg_rate_limit`.\n",
      "\n",
      "Current values:\n",
      "NotebookApp.iopub_msg_rate_limit=1000.0 (msgs/sec)\n",
      "NotebookApp.rate_limit_window=3.0 (secs)\n",
      "\n"
     ]
    }
   ],
   "source": [
    "%%time\n",
    "\n",
    "# convert str to float in original graph\n",
    "for node in range(number_of_nodes):\n",
    "    neighbor_list = get_neighbor_list(str(node))\n",
    "    for neighbor in neighbor_list:\n",
    "        G[str(node)][str(neighbor)]['weight'] = float(G[str(node)][str(neighbor)]['weight'])\n",
    "    clear_output(wait=True)\n",
    "    display('node: ' + str(node))"
   ]
  },
  {
   "cell_type": "code",
   "execution_count": 10,
   "metadata": {},
   "outputs": [
    {
     "data": {
      "text/plain": [
       "{'1': {'distance': '0.04125',\n",
       "  'label': '0.1',\n",
       "  'neighbour': '1',\n",
       "  'probability': '0.115524724',\n",
       "  'weight': 0.8844752758741379},\n",
       " '140': {'distance': '0.04125',\n",
       "  'label': '0.0',\n",
       "  'neighbour': '140',\n",
       "  'probability': '4.751493e-10',\n",
       "  'weight': 0.9999999995248507},\n",
       " '141': {'distance': '0.05833630944789017',\n",
       "  'label': '0.5',\n",
       "  'neighbour': '141',\n",
       "  'probability': '0.49987745',\n",
       "  'weight': 0.5001225471496582}}"
      ]
     },
     "execution_count": 10,
     "metadata": {},
     "output_type": "execute_result"
    }
   ],
   "source": [
    "G[str(0)]"
   ]
  },
  {
   "cell_type": "code",
   "execution_count": 11,
   "metadata": {},
   "outputs": [],
   "source": [
    "# start and goal pixels\n",
    "start = (297, 116)\n",
    "goal = (150, 395)"
   ]
  },
  {
   "cell_type": "code",
   "execution_count": 12,
   "metadata": {},
   "outputs": [],
   "source": [
    "# convert pixels to node\n",
    "source = pixel_to_node(start)\n",
    "target = pixel_to_node(goal)"
   ]
  },
  {
   "cell_type": "code",
   "execution_count": 18,
   "metadata": {},
   "outputs": [
    {
     "data": {
      "text/plain": [
       "'12073'"
      ]
     },
     "execution_count": 18,
     "metadata": {},
     "output_type": "execute_result"
    }
   ],
   "source": [
    "source"
   ]
  },
  {
   "cell_type": "code",
   "execution_count": 13,
   "metadata": {},
   "outputs": [],
   "source": [
    "# heuristic function\n",
    "def dist(a, b):\n",
    "    \n",
    "    start_x, start_y = get_index(int(a))\n",
    "    goal_x, goal_y = get_index(int(b))\n",
    " \n",
    "    return ((start_x - goal_x) ** 2 + (start_y - goal_y) ** 2) ** 0.5"
   ]
  },
  {
   "cell_type": "code",
   "execution_count": 14,
   "metadata": {},
   "outputs": [],
   "source": [
    "# %%time\n",
    "\n",
    "# # path = nx.shortest_path(G, source, target)\n",
    "# path = nx.dijkstra_path(G,source,target)\n",
    "# # path = nx.astar_path(G,source,target, dist)"
   ]
  },
  {
   "cell_type": "code",
   "execution_count": 15,
   "metadata": {},
   "outputs": [
    {
     "name": "stdout",
     "output_type": "stream",
     "text": [
      "CPU times: user 1.24 ms, sys: 0 ns, total: 1.24 ms\n",
      "Wall time: 1.24 ms\n"
     ]
    }
   ],
   "source": [
    "%%time\n",
    "\n",
    "# a star path planner\n",
    "path = nx.astar_path(G, source, target, dist)"
   ]
  },
  {
   "cell_type": "code",
   "execution_count": 16,
   "metadata": {},
   "outputs": [],
   "source": [
    "# convert path (list of nodes) to list of pixels\n",
    "x_list = []\n",
    "y_list = []\n",
    "for node in path:\n",
    "    pixels = node_to_pixel(node)\n",
    "    x_list.append(pixels[0])\n",
    "    y_list.append(pixels[1])"
   ]
  }
 ],
 "metadata": {
  "kernelspec": {
   "display_name": "Python 3",
   "language": "python",
   "name": "python3"
  },
  "language_info": {
   "codemirror_mode": {
    "name": "ipython",
    "version": 3
   },
   "file_extension": ".py",
   "mimetype": "text/x-python",
   "name": "python",
   "nbconvert_exporter": "python",
   "pygments_lexer": "ipython3",
   "version": "3.5.2"
  }
 },
 "nbformat": 4,
 "nbformat_minor": 4
}
