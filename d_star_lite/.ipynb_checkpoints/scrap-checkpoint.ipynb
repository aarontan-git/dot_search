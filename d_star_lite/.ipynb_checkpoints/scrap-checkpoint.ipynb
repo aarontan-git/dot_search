{
 "cells": [
  {
   "cell_type": "code",
   "execution_count": 1,
   "metadata": {},
   "outputs": [],
   "source": [
    "import numpy as np\n",
    "import networkx as nx\n",
    "import matplotlib.pyplot as plt\n",
    "import warnings\n",
    "import math\n",
    "warnings.filterwarnings('ignore')"
   ]
  },
  {
   "cell_type": "code",
   "execution_count": 124,
   "metadata": {},
   "outputs": [],
   "source": [
    "def pixel_to_node(pixel_tuple):\n",
    "    x_idx = pixel_tuple[0]\n",
    "    y_idx = pixel_tuple[1]\n",
    "    \n",
    "    node_x = convert_number_range(x_idx, 0, 480, 0, 139)\n",
    "    node_y = convert_number_range(y_idx, 0, 480, 0, 139)\n",
    "    \n",
    "    node = (140*int(node_x)) + int(node_y)\n",
    "    \n",
    "    return str(node)"
   ]
  },
  {
   "cell_type": "code",
   "execution_count": 125,
   "metadata": {},
   "outputs": [],
   "source": [
    "def convert_number_range(OldValue, OldMin, OldMax, NewMin, NewMax):\n",
    "    # function to account for origin (0 - 600cm => -300cm to 300 cm)\n",
    "\n",
    "    OldRange = (OldMax - OldMin)  \n",
    "    NewRange = (NewMax - NewMin)  \n",
    "    NewValue = (((OldValue - OldMin) * NewRange) / OldRange) + NewMin\n",
    "\n",
    "    return NewValue"
   ]
  },
  {
   "cell_type": "code",
   "execution_count": 126,
   "metadata": {},
   "outputs": [],
   "source": [
    "def get_index(node):\n",
    "    # gets the index of a specified node (eg. row and column)\n",
    "    # accepts node in float(), returns float()\n",
    "    row = node // dot_size\n",
    "    column = node % dot_size\n",
    "    return row, column"
   ]
  },
  {
   "cell_type": "code",
   "execution_count": 127,
   "metadata": {},
   "outputs": [],
   "source": [
    "def node_to_pixel(node):\n",
    "    x, y = get_index(int(node))\n",
    "    \n",
    "    x_pixel = convert_number_range(x, 0, 139, 0, 480)\n",
    "    y_pixel = convert_number_range(y, 0, 139, 0, 480) \n",
    "    pixels = (x_pixel, y_pixel\n",
    "             )\n",
    "    return pixels"
   ]
  },
  {
   "cell_type": "code",
   "execution_count": null,
   "metadata": {},
   "outputs": [],
   "source": []
  },
  {
   "cell_type": "code",
   "execution_count": null,
   "metadata": {},
   "outputs": [],
   "source": []
  },
  {
   "cell_type": "code",
   "execution_count": 128,
   "metadata": {},
   "outputs": [],
   "source": [
    "# print(nx.shortest_path(G, source=\"0\", target=\"5690\"))"
   ]
  },
  {
   "cell_type": "code",
   "execution_count": 129,
   "metadata": {},
   "outputs": [],
   "source": [
    "G = nx.drawing.nx_agraph.read_dot(\"mc202_trav_graph_8.dot\")"
   ]
  },
  {
   "cell_type": "code",
   "execution_count": 130,
   "metadata": {},
   "outputs": [],
   "source": [
    "number_of_nodes = 140 * 140"
   ]
  },
  {
   "cell_type": "code",
   "execution_count": 131,
   "metadata": {},
   "outputs": [],
   "source": [
    "from IPython.display import display, clear_output"
   ]
  },
  {
   "cell_type": "code",
   "execution_count": 132,
   "metadata": {},
   "outputs": [],
   "source": [
    "def get_neighbor_list(node):\n",
    "    # create a list of all neighbors around the specified node\n",
    "    neighbor_list = G.neighbors(str(node))\n",
    "    neighbor_list = list(map(int, neighbor_list))\n",
    "    neighbor_list = sorted(neighbor_list)\n",
    "    return neighbor_list"
   ]
  },
  {
   "cell_type": "code",
   "execution_count": 133,
   "metadata": {},
   "outputs": [
    {
     "data": {
      "text/plain": [
       "'node: 19525'"
      ]
     },
     "metadata": {},
     "output_type": "display_data"
    },
    {
     "name": "stderr",
     "output_type": "stream",
     "text": [
      "IOPub message rate exceeded.\n",
      "The notebook server will temporarily stop sending output\n",
      "to the client in order to avoid crashing it.\n",
      "To change this limit, set the config variable\n",
      "`--NotebookApp.iopub_msg_rate_limit`.\n",
      "\n",
      "Current values:\n",
      "NotebookApp.iopub_msg_rate_limit=1000.0 (msgs/sec)\n",
      "NotebookApp.rate_limit_window=3.0 (secs)\n",
      "\n"
     ]
    }
   ],
   "source": [
    "for node in range(number_of_nodes):\n",
    "    neighbor_list = get_neighbor_list(str(node))\n",
    "    for neighbor in neighbor_list:\n",
    "        G[str(node)][str(neighbor)]['weight'] = float(G[str(node)][str(neighbor)]['weight'])\n",
    "    clear_output(wait=True)\n",
    "    display('node: ' + str(node))"
   ]
  },
  {
   "cell_type": "code",
   "execution_count": null,
   "metadata": {},
   "outputs": [],
   "source": []
  },
  {
   "cell_type": "code",
   "execution_count": null,
   "metadata": {},
   "outputs": [],
   "source": []
  },
  {
   "cell_type": "code",
   "execution_count": 204,
   "metadata": {},
   "outputs": [],
   "source": [
    "start = (297, 116)\n",
    "goal = (150, 395)"
   ]
  },
  {
   "cell_type": "code",
   "execution_count": 205,
   "metadata": {},
   "outputs": [],
   "source": [
    "dot_size = 140"
   ]
  },
  {
   "cell_type": "code",
   "execution_count": 206,
   "metadata": {},
   "outputs": [],
   "source": [
    "source = pixel_to_node(start)\n",
    "target = pixel_to_node(goal)"
   ]
  },
  {
   "cell_type": "code",
   "execution_count": 207,
   "metadata": {},
   "outputs": [],
   "source": [
    "def dist(a, b):\n",
    "    \n",
    "    start_x, start_y = get_index(int(a))\n",
    "    goal_x, goal_y = get_index(int(b))\n",
    " \n",
    "    return ((start_x - goal_x) ** 2 + (start_y - goal_y) ** 2) ** 0.5"
   ]
  },
  {
   "cell_type": "code",
   "execution_count": 208,
   "metadata": {},
   "outputs": [],
   "source": [
    "# %%time\n",
    "\n",
    "# # path = nx.shortest_path(G, source, target)\n",
    "# path = nx.dijkstra_path(G,source,target)\n",
    "# # path = nx.astar_path(G,source,target, dist)"
   ]
  },
  {
   "cell_type": "code",
   "execution_count": 209,
   "metadata": {},
   "outputs": [
    {
     "name": "stdout",
     "output_type": "stream",
     "text": [
      "CPU times: user 900 µs, sys: 110 µs, total: 1.01 ms\n",
      "Wall time: 1.01 ms\n"
     ]
    }
   ],
   "source": [
    "%%time\n",
    "\n",
    "path = nx.astar_path(G, source, target, dist)"
   ]
  },
  {
   "cell_type": "code",
   "execution_count": 210,
   "metadata": {},
   "outputs": [],
   "source": [
    "pixel_list = []\n",
    "for node in path:\n",
    "    pixels = node_to_pixel(node)\n",
    "    pixel_list.append(pixels)"
   ]
  },
  {
   "cell_type": "code",
   "execution_count": 211,
   "metadata": {},
   "outputs": [],
   "source": [
    "# pixel_list"
   ]
  },
  {
   "cell_type": "code",
   "execution_count": 212,
   "metadata": {},
   "outputs": [],
   "source": [
    "x_list = []\n",
    "y_list = []\n",
    "for pixel_tuple in pixel_list:\n",
    "#     node = (pos[1]*graph_size) + pos[0]\n",
    "#     pix_x, pix_y = node_to_pixel(node)\n",
    "    x_list.append(pixel_tuple[0])\n",
    "    y_list.append(pixel_tuple[1])"
   ]
  },
  {
   "cell_type": "code",
   "execution_count": 213,
   "metadata": {},
   "outputs": [
    {
     "data": {
      "image/png": "[encoded data removed]",
      "text/plain": [
       "<Figure size 432x288 with 1 Axes>"
      ]
     },
     "metadata": {
      "needs_background": "light"
     },
     "output_type": "display_data"
    }
   ],
   "source": [
    "img = plt.imread(\"mc202.png\")\n",
    "fig, ax = plt.subplots()\n",
    "ax.scatter(x_list, y_list, s = 1, color=\"red\")\n",
    "im = ax.imshow(img)"
   ]
  },
  {
   "cell_type": "code",
   "execution_count": null,
   "metadata": {},
   "outputs": [],
   "source": []
  },
  {
   "cell_type": "code",
   "execution_count": null,
   "metadata": {},
   "outputs": [],
   "source": []
  },
  {
   "cell_type": "code",
   "execution_count": null,
   "metadata": {},
   "outputs": [],
   "source": []
  },
  {
   "cell_type": "code",
   "execution_count": null,
   "metadata": {},
   "outputs": [],
   "source": []
  }
 ],
 "metadata": {
  "kernelspec": {
   "display_name": "Python 3",
   "language": "python",
   "name": "python3"
  },
  "language_info": {
   "codemirror_mode": {
    "name": "ipython",
    "version": 3
   },
   "file_extension": ".py",
   "mimetype": "text/x-python",
   "name": "python",
   "nbconvert_exporter": "python",
   "pygments_lexer": "ipython3",
   "version": "3.5.2"
  }
 },
 "nbformat": 4,
 "nbformat_minor": 4
}
